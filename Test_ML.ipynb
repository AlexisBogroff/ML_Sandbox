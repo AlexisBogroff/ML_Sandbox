{
 "cells": [
  {
   "cell_type": "code",
   "execution_count": 226,
   "metadata": {},
   "outputs": [],
   "source": [
    "df2 = pd.DataFrame(np.array([[1, 2, 3], [4, 5, 6], [7, 8, 9]]),\n",
    "                   columns=['a', 'b', 'c'])"
   ]
  },
  {
   "cell_type": "code",
   "execution_count": 227,
   "metadata": {},
   "outputs": [],
   "source": [
    "import pandas as pd\n",
    "import numpy as np"
   ]
  },
  {
   "cell_type": "code",
   "execution_count": 228,
   "metadata": {},
   "outputs": [
    {
     "data": {
      "text/html": [
       "<div>\n",
       "<style scoped>\n",
       "    .dataframe tbody tr th:only-of-type {\n",
       "        vertical-align: middle;\n",
       "    }\n",
       "\n",
       "    .dataframe tbody tr th {\n",
       "        vertical-align: top;\n",
       "    }\n",
       "\n",
       "    .dataframe thead th {\n",
       "        text-align: right;\n",
       "    }\n",
       "</style>\n",
       "<table border=\"1\" class=\"dataframe\">\n",
       "  <thead>\n",
       "    <tr style=\"text-align: right;\">\n",
       "      <th></th>\n",
       "      <th>id_eleve</th>\n",
       "      <th>id_question</th>\n",
       "      <th>categorie_quest</th>\n",
       "      <th>categorie_id</th>\n",
       "      <th>reponse</th>\n",
       "      <th>score</th>\n",
       "    </tr>\n",
       "  </thead>\n",
       "  <tbody>\n",
       "    <tr>\n",
       "      <th>0</th>\n",
       "      <td>1</td>\n",
       "      <td>1</td>\n",
       "      <td>Maths, Algèbre, Matrices, Reduction</td>\n",
       "      <td>1</td>\n",
       "      <td>Vrai</td>\n",
       "      <td>100</td>\n",
       "    </tr>\n",
       "    <tr>\n",
       "      <th>1</th>\n",
       "      <td>1</td>\n",
       "      <td>2</td>\n",
       "      <td>Maths, Algèbre, Matrices, Reduction</td>\n",
       "      <td>1</td>\n",
       "      <td>App</td>\n",
       "      <td>50</td>\n",
       "    </tr>\n",
       "    <tr>\n",
       "      <th>2</th>\n",
       "      <td>1</td>\n",
       "      <td>3</td>\n",
       "      <td>Maths, Algèbre, Matrices, Reduction</td>\n",
       "      <td>1</td>\n",
       "      <td>App</td>\n",
       "      <td>50</td>\n",
       "    </tr>\n",
       "    <tr>\n",
       "      <th>3</th>\n",
       "      <td>2</td>\n",
       "      <td>2</td>\n",
       "      <td>Maths, Algèbre, Matrices, Reduction</td>\n",
       "      <td>1</td>\n",
       "      <td>Vrai</td>\n",
       "      <td>100</td>\n",
       "    </tr>\n",
       "    <tr>\n",
       "      <th>4</th>\n",
       "      <td>2</td>\n",
       "      <td>4</td>\n",
       "      <td>Physique, Mecanique, Newton</td>\n",
       "      <td>2</td>\n",
       "      <td>Vrai</td>\n",
       "      <td>100</td>\n",
       "    </tr>\n",
       "    <tr>\n",
       "      <th>5</th>\n",
       "      <td>2</td>\n",
       "      <td>5</td>\n",
       "      <td>Chimie, pH</td>\n",
       "      <td>3</td>\n",
       "      <td>App</td>\n",
       "      <td>50</td>\n",
       "    </tr>\n",
       "    <tr>\n",
       "      <th>6</th>\n",
       "      <td>3</td>\n",
       "      <td>2</td>\n",
       "      <td>Maths, Algèbre, Matrices, Reduction</td>\n",
       "      <td>1</td>\n",
       "      <td>Vrai</td>\n",
       "      <td>100</td>\n",
       "    </tr>\n",
       "    <tr>\n",
       "      <th>7</th>\n",
       "      <td>3</td>\n",
       "      <td>4</td>\n",
       "      <td>Physique, Mecanique, Newton</td>\n",
       "      <td>2</td>\n",
       "      <td>Faux</td>\n",
       "      <td>0</td>\n",
       "    </tr>\n",
       "    <tr>\n",
       "      <th>8</th>\n",
       "      <td>4</td>\n",
       "      <td>4</td>\n",
       "      <td>Physique, Mecanique, Newton</td>\n",
       "      <td>2</td>\n",
       "      <td>Vrai</td>\n",
       "      <td>100</td>\n",
       "    </tr>\n",
       "    <tr>\n",
       "      <th>9</th>\n",
       "      <td>3</td>\n",
       "      <td>5</td>\n",
       "      <td>Chimie, pH</td>\n",
       "      <td>3</td>\n",
       "      <td>Faux</td>\n",
       "      <td>0</td>\n",
       "    </tr>\n",
       "  </tbody>\n",
       "</table>\n",
       "</div>"
      ],
      "text/plain": [
       "  id_eleve id_question                      categorie_quest categorie_id  \\\n",
       "0        1           1  Maths, Algèbre, Matrices, Reduction            1   \n",
       "1        1           2  Maths, Algèbre, Matrices, Reduction            1   \n",
       "2        1           3  Maths, Algèbre, Matrices, Reduction            1   \n",
       "3        2           2  Maths, Algèbre, Matrices, Reduction            1   \n",
       "4        2           4          Physique, Mecanique, Newton            2   \n",
       "5        2           5                           Chimie, pH            3   \n",
       "6        3           2  Maths, Algèbre, Matrices, Reduction            1   \n",
       "7        3           4          Physique, Mecanique, Newton            2   \n",
       "8        4           4          Physique, Mecanique, Newton            2   \n",
       "9        3           5                           Chimie, pH            3   \n",
       "\n",
       "  reponse score  \n",
       "0    Vrai   100  \n",
       "1     App    50  \n",
       "2     App    50  \n",
       "3    Vrai   100  \n",
       "4    Vrai   100  \n",
       "5     App    50  \n",
       "6    Vrai   100  \n",
       "7    Faux     0  \n",
       "8    Vrai   100  \n",
       "9    Faux     0  "
      ]
     },
     "execution_count": 228,
     "metadata": {},
     "output_type": "execute_result"
    }
   ],
   "source": [
    "df=pd.DataFrame(np.array([[1,1,\"Maths, Algèbre, Matrices, Reduction\",1,\"Vrai\",100],\n",
    "                         [1,2,\"Maths, Algèbre, Matrices, Reduction\",1,\"App\",50],\n",
    "                         [1,3,\"Maths, Algèbre, Matrices, Reduction\",1,\"App\",50],\n",
    "                         [2,2,\"Maths, Algèbre, Matrices, Reduction\",1,\"Vrai\",100],\n",
    "                         [2,4,\"Physique, Mecanique, Newton\",2,\"Vrai\",100],\n",
    "                         [2,5,\"Chimie, pH\",3,\"App\",50],\n",
    "                         [3,2,\"Maths, Algèbre, Matrices, Reduction\",1,\"Vrai\",100],\n",
    "                         [3,4,\"Physique, Mecanique, Newton\",2,\"Faux\",0],\n",
    "                          [4,4,\"Physique, Mecanique, Newton\",2,\"Vrai\",100],\n",
    "                          [3,5,\"Chimie, pH\",3,\"Faux\",0]                        \n",
    "                         ]),\n",
    "               columns=[\"id_eleve\",\"id_question\",\"categorie_quest\",\"categorie_id\",\"reponse\",\"score\"])\n",
    "\n",
    "df"
   ]
  },
  {
   "cell_type": "code",
   "execution_count": 229,
   "metadata": {},
   "outputs": [
    {
     "data": {
      "text/plain": [
       "id_eleve           object\n",
       "id_question        object\n",
       "categorie_quest    object\n",
       "categorie_id       object\n",
       "reponse            object\n",
       "score              object\n",
       "dtype: object"
      ]
     },
     "execution_count": 229,
     "metadata": {},
     "output_type": "execute_result"
    }
   ],
   "source": [
    "df.dtypes"
   ]
  },
  {
   "cell_type": "code",
   "execution_count": 230,
   "metadata": {},
   "outputs": [],
   "source": [
    "#On transforme en double\n",
    "\n",
    "df[[\"id_eleve\",\"id_question\",\"categorie_id\",\"score\"]]=df[[\"id_eleve\",\"id_question\",\"categorie_id\",\"score\"]].astype(float)"
   ]
  },
  {
   "cell_type": "code",
   "execution_count": 231,
   "metadata": {},
   "outputs": [
    {
     "data": {
      "text/plain": [
       "id_eleve           float64\n",
       "id_question        float64\n",
       "categorie_quest     object\n",
       "categorie_id       float64\n",
       "reponse             object\n",
       "score              float64\n",
       "dtype: object"
      ]
     },
     "execution_count": 231,
     "metadata": {},
     "output_type": "execute_result"
    }
   ],
   "source": [
    "df.dtypes"
   ]
  },
  {
   "cell_type": "code",
   "execution_count": 232,
   "metadata": {},
   "outputs": [
    {
     "data": {
      "text/html": [
       "<div>\n",
       "<style scoped>\n",
       "    .dataframe tbody tr th:only-of-type {\n",
       "        vertical-align: middle;\n",
       "    }\n",
       "\n",
       "    .dataframe tbody tr th {\n",
       "        vertical-align: top;\n",
       "    }\n",
       "\n",
       "    .dataframe thead th {\n",
       "        text-align: right;\n",
       "    }\n",
       "</style>\n",
       "<table border=\"1\" class=\"dataframe\">\n",
       "  <thead>\n",
       "    <tr style=\"text-align: right;\">\n",
       "      <th></th>\n",
       "      <th>id_eleve</th>\n",
       "      <th>categorie_id</th>\n",
       "      <th>categorie_quest</th>\n",
       "      <th>score</th>\n",
       "    </tr>\n",
       "  </thead>\n",
       "  <tbody>\n",
       "    <tr>\n",
       "      <th>0</th>\n",
       "      <td>1.0</td>\n",
       "      <td>1.0</td>\n",
       "      <td>Maths, Algèbre, Matrices, Reduction</td>\n",
       "      <td>66.666667</td>\n",
       "    </tr>\n",
       "    <tr>\n",
       "      <th>1</th>\n",
       "      <td>2.0</td>\n",
       "      <td>1.0</td>\n",
       "      <td>Maths, Algèbre, Matrices, Reduction</td>\n",
       "      <td>100.000000</td>\n",
       "    </tr>\n",
       "    <tr>\n",
       "      <th>2</th>\n",
       "      <td>2.0</td>\n",
       "      <td>2.0</td>\n",
       "      <td>Physique, Mecanique, Newton</td>\n",
       "      <td>100.000000</td>\n",
       "    </tr>\n",
       "    <tr>\n",
       "      <th>3</th>\n",
       "      <td>2.0</td>\n",
       "      <td>3.0</td>\n",
       "      <td>Chimie, pH</td>\n",
       "      <td>50.000000</td>\n",
       "    </tr>\n",
       "    <tr>\n",
       "      <th>4</th>\n",
       "      <td>3.0</td>\n",
       "      <td>1.0</td>\n",
       "      <td>Maths, Algèbre, Matrices, Reduction</td>\n",
       "      <td>100.000000</td>\n",
       "    </tr>\n",
       "    <tr>\n",
       "      <th>5</th>\n",
       "      <td>3.0</td>\n",
       "      <td>2.0</td>\n",
       "      <td>Physique, Mecanique, Newton</td>\n",
       "      <td>0.000000</td>\n",
       "    </tr>\n",
       "    <tr>\n",
       "      <th>6</th>\n",
       "      <td>3.0</td>\n",
       "      <td>3.0</td>\n",
       "      <td>Chimie, pH</td>\n",
       "      <td>0.000000</td>\n",
       "    </tr>\n",
       "    <tr>\n",
       "      <th>7</th>\n",
       "      <td>4.0</td>\n",
       "      <td>2.0</td>\n",
       "      <td>Physique, Mecanique, Newton</td>\n",
       "      <td>100.000000</td>\n",
       "    </tr>\n",
       "  </tbody>\n",
       "</table>\n",
       "</div>"
      ],
      "text/plain": [
       "   id_eleve  categorie_id                      categorie_quest       score\n",
       "0       1.0           1.0  Maths, Algèbre, Matrices, Reduction   66.666667\n",
       "1       2.0           1.0  Maths, Algèbre, Matrices, Reduction  100.000000\n",
       "2       2.0           2.0          Physique, Mecanique, Newton  100.000000\n",
       "3       2.0           3.0                           Chimie, pH   50.000000\n",
       "4       3.0           1.0  Maths, Algèbre, Matrices, Reduction  100.000000\n",
       "5       3.0           2.0          Physique, Mecanique, Newton    0.000000\n",
       "6       3.0           3.0                           Chimie, pH    0.000000\n",
       "7       4.0           2.0          Physique, Mecanique, Newton  100.000000"
      ]
     },
     "execution_count": 232,
     "metadata": {},
     "output_type": "execute_result"
    }
   ],
   "source": [
    "#Calculer la moyenne de chaque étudiant en fonction de la catégorie de question\n",
    "\n",
    "eleve = df.groupby([\"id_eleve\",\"categorie_id\",\"categorie_quest\"]).score.mean()\n",
    "eleve = eleve.reset_index()\n",
    "eleve"
   ]
  },
  {
   "cell_type": "code",
   "execution_count": 233,
   "metadata": {},
   "outputs": [
    {
     "data": {
      "text/html": [
       "<div>\n",
       "<style scoped>\n",
       "    .dataframe tbody tr th:only-of-type {\n",
       "        vertical-align: middle;\n",
       "    }\n",
       "\n",
       "    .dataframe tbody tr th {\n",
       "        vertical-align: top;\n",
       "    }\n",
       "\n",
       "    .dataframe thead th {\n",
       "        text-align: right;\n",
       "    }\n",
       "</style>\n",
       "<table border=\"1\" class=\"dataframe\">\n",
       "  <thead>\n",
       "    <tr style=\"text-align: right;\">\n",
       "      <th></th>\n",
       "      <th>categorie_quest</th>\n",
       "      <th>score</th>\n",
       "    </tr>\n",
       "  </thead>\n",
       "  <tbody>\n",
       "    <tr>\n",
       "      <th>0</th>\n",
       "      <td>Chimie, pH</td>\n",
       "      <td>25.000000</td>\n",
       "    </tr>\n",
       "    <tr>\n",
       "      <th>1</th>\n",
       "      <td>Maths, Algèbre, Matrices, Reduction</td>\n",
       "      <td>80.000000</td>\n",
       "    </tr>\n",
       "    <tr>\n",
       "      <th>2</th>\n",
       "      <td>Physique, Mecanique, Newton</td>\n",
       "      <td>66.666667</td>\n",
       "    </tr>\n",
       "  </tbody>\n",
       "</table>\n",
       "</div>"
      ],
      "text/plain": [
       "                       categorie_quest      score\n",
       "0                           Chimie, pH  25.000000\n",
       "1  Maths, Algèbre, Matrices, Reduction  80.000000\n",
       "2          Physique, Mecanique, Newton  66.666667"
      ]
     },
     "execution_count": 233,
     "metadata": {},
     "output_type": "execute_result"
    }
   ],
   "source": [
    "#Moyenne dans chaque matière\n",
    "\n",
    "categorie = df.groupby([\"categorie_quest\"]).score.mean()\n",
    "categorie = categorie.reset_index()\n",
    "categorie"
   ]
  },
  {
   "cell_type": "markdown",
   "metadata": {},
   "source": [
    "# SkLearn"
   ]
  },
  {
   "cell_type": "code",
   "execution_count": 234,
   "metadata": {},
   "outputs": [],
   "source": [
    "import matplotlib.pyplot as plt\n",
    "from mpl_toolkits.mplot3d import Axes3D\n",
    "from sklearn.decomposition import PCA\n",
    "from sklearn.compose import ColumnTransformer\n",
    "\n",
    "# on utilisera un pipeline pour enchaîner les traitements\n",
    "from sklearn.pipeline import Pipeline\n",
    "\n",
    "# les méthodes de prétraitement\n",
    "from sklearn.impute import SimpleImputer\n",
    "from sklearn.preprocessing import StandardScaler, OneHotEncoder\n",
    "\n",
    "# les outils de machine learning\n",
    "from sklearn.linear_model import LogisticRegression\n",
    "from sklearn.model_selection import train_test_split"
   ]
  },
  {
   "cell_type": "markdown",
   "metadata": {},
   "source": [
    "On définit les variables qui vont servir au modèle.\n",
    "\n",
    "On veut prédire le score de l'élève, si ce score est en dessous d'un certain seuil, alors cette question lui sera proposé, car il n'a pas le niveau et doit s'entrainer.\n",
    "\n",
    "Pour faire cela, on doit trouver des similarités entre les élèves :\n",
    "\n",
    "-- La classe :en effet, des élèves qui suivent le même cours sont plus suceptibles de répondre de la même manière.\n",
    "-- Le lycée dans lequel ils sont.\n",
    "-- Le nombre d'absences.\n",
    "-- le nombre de quizz effectué."
   ]
  },
  {
   "cell_type": "code",
   "execution_count": 235,
   "metadata": {},
   "outputs": [
    {
     "data": {
      "text/html": [
       "<div>\n",
       "<style scoped>\n",
       "    .dataframe tbody tr th:only-of-type {\n",
       "        vertical-align: middle;\n",
       "    }\n",
       "\n",
       "    .dataframe tbody tr th {\n",
       "        vertical-align: top;\n",
       "    }\n",
       "\n",
       "    .dataframe thead th {\n",
       "        text-align: right;\n",
       "    }\n",
       "</style>\n",
       "<table border=\"1\" class=\"dataframe\">\n",
       "  <thead>\n",
       "    <tr style=\"text-align: right;\">\n",
       "      <th></th>\n",
       "      <th>id_eleve</th>\n",
       "      <th>id_ecole</th>\n",
       "      <th>id_classe</th>\n",
       "      <th>nb_absences</th>\n",
       "      <th>nb_quizz</th>\n",
       "    </tr>\n",
       "  </thead>\n",
       "  <tbody>\n",
       "    <tr>\n",
       "      <th>0</th>\n",
       "      <td>1</td>\n",
       "      <td>1</td>\n",
       "      <td>1</td>\n",
       "      <td>10</td>\n",
       "      <td>5</td>\n",
       "    </tr>\n",
       "    <tr>\n",
       "      <th>1</th>\n",
       "      <td>2</td>\n",
       "      <td>1</td>\n",
       "      <td>1</td>\n",
       "      <td>1</td>\n",
       "      <td>50</td>\n",
       "    </tr>\n",
       "    <tr>\n",
       "      <th>2</th>\n",
       "      <td>3</td>\n",
       "      <td>2</td>\n",
       "      <td>2</td>\n",
       "      <td>6</td>\n",
       "      <td>5</td>\n",
       "    </tr>\n",
       "    <tr>\n",
       "      <th>3</th>\n",
       "      <td>4</td>\n",
       "      <td>2</td>\n",
       "      <td>2</td>\n",
       "      <td>12</td>\n",
       "      <td>0</td>\n",
       "    </tr>\n",
       "  </tbody>\n",
       "</table>\n",
       "</div>"
      ],
      "text/plain": [
       "   id_eleve  id_ecole  id_classe  nb_absences  nb_quizz\n",
       "0         1         1          1           10         5\n",
       "1         2         1          1            1        50\n",
       "2         3         2          2            6         5\n",
       "3         4         2          2           12         0"
      ]
     },
     "execution_count": 235,
     "metadata": {},
     "output_type": "execute_result"
    }
   ],
   "source": [
    "df_2=pd.DataFrame(np.array([[1,1,1,10,5],\n",
    "                            [2,1,1,1,50],\n",
    "                            [3,2,2,6,5],\n",
    "                            [4,2,2,12,0]\n",
    "                           ]),\n",
    "               columns=[\"id_eleve\",\"id_ecole\",\"id_classe\",\"nb_absences\",\"nb_quizz\"])\n",
    "\n",
    "df_2"
   ]
  },
  {
   "cell_type": "code",
   "execution_count": 236,
   "metadata": {},
   "outputs": [
    {
     "data": {
      "text/html": [
       "<div>\n",
       "<style scoped>\n",
       "    .dataframe tbody tr th:only-of-type {\n",
       "        vertical-align: middle;\n",
       "    }\n",
       "\n",
       "    .dataframe tbody tr th {\n",
       "        vertical-align: top;\n",
       "    }\n",
       "\n",
       "    .dataframe thead th {\n",
       "        text-align: right;\n",
       "    }\n",
       "</style>\n",
       "<table border=\"1\" class=\"dataframe\">\n",
       "  <thead>\n",
       "    <tr style=\"text-align: right;\">\n",
       "      <th></th>\n",
       "      <th>id_eleve</th>\n",
       "      <th>categorie_id</th>\n",
       "      <th>categorie_quest</th>\n",
       "      <th>score</th>\n",
       "      <th>id_ecole</th>\n",
       "      <th>id_classe</th>\n",
       "      <th>nb_absences</th>\n",
       "      <th>nb_quizz</th>\n",
       "    </tr>\n",
       "  </thead>\n",
       "  <tbody>\n",
       "    <tr>\n",
       "      <th>0</th>\n",
       "      <td>1.0</td>\n",
       "      <td>1.0</td>\n",
       "      <td>Maths, Algèbre, Matrices, Reduction</td>\n",
       "      <td>66.666667</td>\n",
       "      <td>1</td>\n",
       "      <td>1</td>\n",
       "      <td>10</td>\n",
       "      <td>5</td>\n",
       "    </tr>\n",
       "    <tr>\n",
       "      <th>1</th>\n",
       "      <td>2.0</td>\n",
       "      <td>1.0</td>\n",
       "      <td>Maths, Algèbre, Matrices, Reduction</td>\n",
       "      <td>100.000000</td>\n",
       "      <td>1</td>\n",
       "      <td>1</td>\n",
       "      <td>1</td>\n",
       "      <td>50</td>\n",
       "    </tr>\n",
       "    <tr>\n",
       "      <th>2</th>\n",
       "      <td>2.0</td>\n",
       "      <td>2.0</td>\n",
       "      <td>Physique, Mecanique, Newton</td>\n",
       "      <td>100.000000</td>\n",
       "      <td>1</td>\n",
       "      <td>1</td>\n",
       "      <td>1</td>\n",
       "      <td>50</td>\n",
       "    </tr>\n",
       "    <tr>\n",
       "      <th>3</th>\n",
       "      <td>2.0</td>\n",
       "      <td>3.0</td>\n",
       "      <td>Chimie, pH</td>\n",
       "      <td>50.000000</td>\n",
       "      <td>1</td>\n",
       "      <td>1</td>\n",
       "      <td>1</td>\n",
       "      <td>50</td>\n",
       "    </tr>\n",
       "    <tr>\n",
       "      <th>4</th>\n",
       "      <td>3.0</td>\n",
       "      <td>1.0</td>\n",
       "      <td>Maths, Algèbre, Matrices, Reduction</td>\n",
       "      <td>100.000000</td>\n",
       "      <td>2</td>\n",
       "      <td>2</td>\n",
       "      <td>6</td>\n",
       "      <td>5</td>\n",
       "    </tr>\n",
       "    <tr>\n",
       "      <th>5</th>\n",
       "      <td>3.0</td>\n",
       "      <td>2.0</td>\n",
       "      <td>Physique, Mecanique, Newton</td>\n",
       "      <td>0.000000</td>\n",
       "      <td>2</td>\n",
       "      <td>2</td>\n",
       "      <td>6</td>\n",
       "      <td>5</td>\n",
       "    </tr>\n",
       "    <tr>\n",
       "      <th>6</th>\n",
       "      <td>3.0</td>\n",
       "      <td>3.0</td>\n",
       "      <td>Chimie, pH</td>\n",
       "      <td>0.000000</td>\n",
       "      <td>2</td>\n",
       "      <td>2</td>\n",
       "      <td>6</td>\n",
       "      <td>5</td>\n",
       "    </tr>\n",
       "    <tr>\n",
       "      <th>7</th>\n",
       "      <td>4.0</td>\n",
       "      <td>2.0</td>\n",
       "      <td>Physique, Mecanique, Newton</td>\n",
       "      <td>100.000000</td>\n",
       "      <td>2</td>\n",
       "      <td>2</td>\n",
       "      <td>12</td>\n",
       "      <td>0</td>\n",
       "    </tr>\n",
       "  </tbody>\n",
       "</table>\n",
       "</div>"
      ],
      "text/plain": [
       "   id_eleve  categorie_id                      categorie_quest       score  \\\n",
       "0       1.0           1.0  Maths, Algèbre, Matrices, Reduction   66.666667   \n",
       "1       2.0           1.0  Maths, Algèbre, Matrices, Reduction  100.000000   \n",
       "2       2.0           2.0          Physique, Mecanique, Newton  100.000000   \n",
       "3       2.0           3.0                           Chimie, pH   50.000000   \n",
       "4       3.0           1.0  Maths, Algèbre, Matrices, Reduction  100.000000   \n",
       "5       3.0           2.0          Physique, Mecanique, Newton    0.000000   \n",
       "6       3.0           3.0                           Chimie, pH    0.000000   \n",
       "7       4.0           2.0          Physique, Mecanique, Newton  100.000000   \n",
       "\n",
       "   id_ecole  id_classe  nb_absences  nb_quizz  \n",
       "0         1          1           10         5  \n",
       "1         1          1            1        50  \n",
       "2         1          1            1        50  \n",
       "3         1          1            1        50  \n",
       "4         2          2            6         5  \n",
       "5         2          2            6         5  \n",
       "6         2          2            6         5  \n",
       "7         2          2           12         0  "
      ]
     },
     "execution_count": 236,
     "metadata": {},
     "output_type": "execute_result"
    }
   ],
   "source": [
    "merged=eleve.merge(df_2, on=\"id_eleve\")\n",
    "merged"
   ]
  },
  {
   "cell_type": "code",
   "execution_count": 237,
   "metadata": {},
   "outputs": [
    {
     "data": {
      "text/html": [
       "<div>\n",
       "<style scoped>\n",
       "    .dataframe tbody tr th:only-of-type {\n",
       "        vertical-align: middle;\n",
       "    }\n",
       "\n",
       "    .dataframe tbody tr th {\n",
       "        vertical-align: top;\n",
       "    }\n",
       "\n",
       "    .dataframe thead th {\n",
       "        text-align: right;\n",
       "    }\n",
       "</style>\n",
       "<table border=\"1\" class=\"dataframe\">\n",
       "  <thead>\n",
       "    <tr style=\"text-align: right;\">\n",
       "      <th></th>\n",
       "      <th></th>\n",
       "      <th></th>\n",
       "      <th>categorie_id</th>\n",
       "      <th>score</th>\n",
       "      <th>nb_absences</th>\n",
       "      <th>nb_quizz</th>\n",
       "    </tr>\n",
       "    <tr>\n",
       "      <th>id_eleve</th>\n",
       "      <th>id_ecole</th>\n",
       "      <th>id_classe</th>\n",
       "      <th></th>\n",
       "      <th></th>\n",
       "      <th></th>\n",
       "      <th></th>\n",
       "    </tr>\n",
       "  </thead>\n",
       "  <tbody>\n",
       "    <tr>\n",
       "      <th>1.0</th>\n",
       "      <th>1</th>\n",
       "      <th>1</th>\n",
       "      <td>1.0</td>\n",
       "      <td>66.666667</td>\n",
       "      <td>10</td>\n",
       "      <td>5</td>\n",
       "    </tr>\n",
       "    <tr>\n",
       "      <th>2.0</th>\n",
       "      <th>1</th>\n",
       "      <th>1</th>\n",
       "      <td>2.0</td>\n",
       "      <td>83.333333</td>\n",
       "      <td>1</td>\n",
       "      <td>50</td>\n",
       "    </tr>\n",
       "    <tr>\n",
       "      <th>3.0</th>\n",
       "      <th>2</th>\n",
       "      <th>2</th>\n",
       "      <td>2.0</td>\n",
       "      <td>33.333333</td>\n",
       "      <td>6</td>\n",
       "      <td>5</td>\n",
       "    </tr>\n",
       "    <tr>\n",
       "      <th>4.0</th>\n",
       "      <th>2</th>\n",
       "      <th>2</th>\n",
       "      <td>2.0</td>\n",
       "      <td>100.000000</td>\n",
       "      <td>12</td>\n",
       "      <td>0</td>\n",
       "    </tr>\n",
       "  </tbody>\n",
       "</table>\n",
       "</div>"
      ],
      "text/plain": [
       "                             categorie_id       score  nb_absences  nb_quizz\n",
       "id_eleve id_ecole id_classe                                                 \n",
       "1.0      1        1                   1.0   66.666667           10         5\n",
       "2.0      1        1                   2.0   83.333333            1        50\n",
       "3.0      2        2                   2.0   33.333333            6         5\n",
       "4.0      2        2                   2.0  100.000000           12         0"
      ]
     },
     "execution_count": 237,
     "metadata": {},
     "output_type": "execute_result"
    }
   ],
   "source": [
    "merged.groupby([\"id_eleve\",\"id_ecole\",\"id_classe\"]).mean()"
   ]
  },
  {
   "cell_type": "code",
   "execution_count": 238,
   "metadata": {},
   "outputs": [
    {
     "data": {
      "text/plain": [
       "id_ecole\n",
       "1    79.166667\n",
       "2    50.000000\n",
       "Name: score, dtype: float64"
      ]
     },
     "execution_count": 238,
     "metadata": {},
     "output_type": "execute_result"
    }
   ],
   "source": [
    "merged.groupby(\"id_ecole\").score.mean()"
   ]
  },
  {
   "cell_type": "code",
   "execution_count": 239,
   "metadata": {},
   "outputs": [
    {
     "data": {
      "text/plain": [
       "id_classe\n",
       "1    79.166667\n",
       "2    50.000000\n",
       "Name: score, dtype: float64"
      ]
     },
     "execution_count": 239,
     "metadata": {},
     "output_type": "execute_result"
    }
   ],
   "source": [
    "merged.groupby(\"id_classe\").score.mean()"
   ]
  },
  {
   "cell_type": "markdown",
   "metadata": {},
   "source": [
    "## Dataset training"
   ]
  },
  {
   "cell_type": "code",
   "execution_count": 259,
   "metadata": {},
   "outputs": [
    {
     "data": {
      "text/html": [
       "<div>\n",
       "<style scoped>\n",
       "    .dataframe tbody tr th:only-of-type {\n",
       "        vertical-align: middle;\n",
       "    }\n",
       "\n",
       "    .dataframe tbody tr th {\n",
       "        vertical-align: top;\n",
       "    }\n",
       "\n",
       "    .dataframe thead th {\n",
       "        text-align: right;\n",
       "    }\n",
       "</style>\n",
       "<table border=\"1\" class=\"dataframe\">\n",
       "  <thead>\n",
       "    <tr style=\"text-align: right;\">\n",
       "      <th></th>\n",
       "      <th>id_eleve</th>\n",
       "      <th>categorie_id</th>\n",
       "      <th>id_ecole</th>\n",
       "      <th>id_classe</th>\n",
       "      <th>nb_absences</th>\n",
       "      <th>nb_quizz</th>\n",
       "      <th>score</th>\n",
       "    </tr>\n",
       "  </thead>\n",
       "  <tbody>\n",
       "    <tr>\n",
       "      <th>0</th>\n",
       "      <td>1.0</td>\n",
       "      <td>1.0</td>\n",
       "      <td>1</td>\n",
       "      <td>1</td>\n",
       "      <td>10</td>\n",
       "      <td>5</td>\n",
       "      <td>66.666667</td>\n",
       "    </tr>\n",
       "    <tr>\n",
       "      <th>1</th>\n",
       "      <td>2.0</td>\n",
       "      <td>1.0</td>\n",
       "      <td>1</td>\n",
       "      <td>1</td>\n",
       "      <td>1</td>\n",
       "      <td>50</td>\n",
       "      <td>100.000000</td>\n",
       "    </tr>\n",
       "    <tr>\n",
       "      <th>2</th>\n",
       "      <td>2.0</td>\n",
       "      <td>2.0</td>\n",
       "      <td>1</td>\n",
       "      <td>1</td>\n",
       "      <td>1</td>\n",
       "      <td>50</td>\n",
       "      <td>100.000000</td>\n",
       "    </tr>\n",
       "    <tr>\n",
       "      <th>3</th>\n",
       "      <td>2.0</td>\n",
       "      <td>3.0</td>\n",
       "      <td>1</td>\n",
       "      <td>1</td>\n",
       "      <td>1</td>\n",
       "      <td>50</td>\n",
       "      <td>50.000000</td>\n",
       "    </tr>\n",
       "    <tr>\n",
       "      <th>4</th>\n",
       "      <td>3.0</td>\n",
       "      <td>1.0</td>\n",
       "      <td>2</td>\n",
       "      <td>2</td>\n",
       "      <td>6</td>\n",
       "      <td>5</td>\n",
       "      <td>100.000000</td>\n",
       "    </tr>\n",
       "    <tr>\n",
       "      <th>5</th>\n",
       "      <td>3.0</td>\n",
       "      <td>2.0</td>\n",
       "      <td>2</td>\n",
       "      <td>2</td>\n",
       "      <td>6</td>\n",
       "      <td>5</td>\n",
       "      <td>0.000000</td>\n",
       "    </tr>\n",
       "    <tr>\n",
       "      <th>6</th>\n",
       "      <td>3.0</td>\n",
       "      <td>3.0</td>\n",
       "      <td>2</td>\n",
       "      <td>2</td>\n",
       "      <td>6</td>\n",
       "      <td>5</td>\n",
       "      <td>0.000000</td>\n",
       "    </tr>\n",
       "    <tr>\n",
       "      <th>7</th>\n",
       "      <td>4.0</td>\n",
       "      <td>2.0</td>\n",
       "      <td>2</td>\n",
       "      <td>2</td>\n",
       "      <td>12</td>\n",
       "      <td>0</td>\n",
       "      <td>100.000000</td>\n",
       "    </tr>\n",
       "  </tbody>\n",
       "</table>\n",
       "</div>"
      ],
      "text/plain": [
       "   id_eleve  categorie_id  id_ecole  id_classe  nb_absences  nb_quizz  \\\n",
       "0       1.0           1.0         1          1           10         5   \n",
       "1       2.0           1.0         1          1            1        50   \n",
       "2       2.0           2.0         1          1            1        50   \n",
       "3       2.0           3.0         1          1            1        50   \n",
       "4       3.0           1.0         2          2            6         5   \n",
       "5       3.0           2.0         2          2            6         5   \n",
       "6       3.0           3.0         2          2            6         5   \n",
       "7       4.0           2.0         2          2           12         0   \n",
       "\n",
       "        score  \n",
       "0   66.666667  \n",
       "1  100.000000  \n",
       "2  100.000000  \n",
       "3   50.000000  \n",
       "4  100.000000  \n",
       "5    0.000000  \n",
       "6    0.000000  \n",
       "7  100.000000  "
      ]
     },
     "execution_count": 259,
     "metadata": {},
     "output_type": "execute_result"
    }
   ],
   "source": [
    "data_training=merged[[\"id_eleve\",\"categorie_id\",\"id_ecole\",\"id_classe\",\"nb_absences\",\"nb_quizz\",\"score\"]]\n",
    "data_training"
   ]
  },
  {
   "cell_type": "code",
   "execution_count": 260,
   "metadata": {},
   "outputs": [
    {
     "data": {
      "text/plain": [
       "id_eleve        float64\n",
       "categorie_id    float64\n",
       "id_ecole          int32\n",
       "id_classe         int32\n",
       "nb_absences       int32\n",
       "nb_quizz          int32\n",
       "score           float64\n",
       "dtype: object"
      ]
     },
     "execution_count": 260,
     "metadata": {},
     "output_type": "execute_result"
    }
   ],
   "source": [
    "data_training.dtypes"
   ]
  },
  {
   "cell_type": "code",
   "execution_count": 261,
   "metadata": {},
   "outputs": [
    {
     "name": "stderr",
     "output_type": "stream",
     "text": [
      "C:\\Users\\nicob\\Anaconda3\\lib\\site-packages\\pandas\\core\\frame.py:2963: SettingWithCopyWarning: \n",
      "A value is trying to be set on a copy of a slice from a DataFrame.\n",
      "Try using .loc[row_indexer,col_indexer] = value instead\n",
      "\n",
      "See the caveats in the documentation: https://pandas.pydata.org/pandas-docs/stable/user_guide/indexing.html#returning-a-view-versus-a-copy\n",
      "  self[k1] = value[k2]\n"
     ]
    }
   ],
   "source": [
    "data_training[[\"id_eleve\",\"categorie_id\",\"id_ecole\",\"id_classe\",\"nb_absences\",\"nb_quizz\",\"score\"]]=data_training[[\"id_eleve\",\"categorie_id\",\"id_ecole\",\"id_classe\",\"nb_absences\",\"nb_quizz\",\"score\"]].astype(float)"
   ]
  },
  {
   "cell_type": "code",
   "execution_count": 262,
   "metadata": {},
   "outputs": [
    {
     "data": {
      "text/plain": [
       "id_eleve        float64\n",
       "categorie_id    float64\n",
       "id_ecole        float64\n",
       "id_classe       float64\n",
       "nb_absences     float64\n",
       "nb_quizz        float64\n",
       "score           float64\n",
       "dtype: object"
      ]
     },
     "execution_count": 262,
     "metadata": {},
     "output_type": "execute_result"
    }
   ],
   "source": [
    "data_training.dtypes"
   ]
  },
  {
   "cell_type": "code",
   "execution_count": 263,
   "metadata": {},
   "outputs": [
    {
     "data": {
      "text/plain": [
       "array([[ 1.,  1.,  1.,  1., 10.,  5.],\n",
       "       [ 2.,  1.,  1.,  1.,  1., 50.],\n",
       "       [ 2.,  2.,  1.,  1.,  1., 50.],\n",
       "       [ 2.,  3.,  1.,  1.,  1., 50.],\n",
       "       [ 3.,  1.,  2.,  2.,  6.,  5.],\n",
       "       [ 3.,  2.,  2.,  2.,  6.,  5.],\n",
       "       [ 3.,  3.,  2.,  2.,  6.,  5.],\n",
       "       [ 4.,  2.,  2.,  2., 12.,  0.]])"
      ]
     },
     "execution_count": 263,
     "metadata": {},
     "output_type": "execute_result"
    }
   ],
   "source": [
    "#Data\n",
    "\n",
    "X = data_training.iloc[:, 0:6].values\n",
    "X"
   ]
  },
  {
   "cell_type": "code",
   "execution_count": 264,
   "metadata": {},
   "outputs": [
    {
     "data": {
      "text/plain": [
       "array([ 66.66666667, 100.        , 100.        ,  50.        ,\n",
       "       100.        ,   0.        ,   0.        , 100.        ])"
      ]
     },
     "execution_count": 264,
     "metadata": {},
     "output_type": "execute_result"
    }
   ],
   "source": [
    "#target\n",
    "\n",
    "y = data_training.iloc[:, 6].values\n",
    "y"
   ]
  },
  {
   "cell_type": "code",
   "execution_count": 265,
   "metadata": {},
   "outputs": [],
   "source": [
    "#Divise training set\n",
    "\n",
    "from sklearn.model_selection import train_test_split\n",
    "\n",
    "X_train, X_test, y_train, y_test = train_test_split(X, y, test_size=0.2, random_state=0)"
   ]
  },
  {
   "cell_type": "code",
   "execution_count": 266,
   "metadata": {},
   "outputs": [],
   "source": [
    "# Feature Scaling\n",
    "from sklearn.preprocessing import StandardScaler\n",
    "\n",
    "sc = StandardScaler()\n",
    "X_train = sc.fit_transform(X_train)\n",
    "X_test = sc.transform(X_test)"
   ]
  },
  {
   "cell_type": "markdown",
   "metadata": {},
   "source": [
    "# Regression"
   ]
  },
  {
   "cell_type": "code",
   "execution_count": 267,
   "metadata": {},
   "outputs": [],
   "source": [
    "from sklearn.ensemble import RandomForestRegressor\n",
    "\n",
    "regressor = RandomForestRegressor(n_estimators=20, random_state=0)\n",
    "regressor.fit(X_train, y_train)\n",
    "y_pred = regressor.predict(X_test)"
   ]
  },
  {
   "cell_type": "code",
   "execution_count": 271,
   "metadata": {},
   "outputs": [
    {
     "name": "stdout",
     "output_type": "stream",
     "text": [
      "Mean Absolute Error: 40.83333333333333\n",
      "Mean Squared Error: 1918.0555555555554\n",
      "Root Mean Squared Error: 43.79561114490304\n"
     ]
    }
   ],
   "source": [
    "from sklearn import metrics\n",
    "\n",
    "print('Mean Absolute Error:', metrics.mean_absolute_error(y_test, y_pred))\n",
    "print('Mean Squared Error:', metrics.mean_squared_error(y_test, y_pred))\n",
    "print('Root Mean Squared Error:', np.sqrt(metrics.mean_squared_error(y_test, y_pred)))"
   ]
  },
  {
   "cell_type": "markdown",
   "metadata": {},
   "source": [
    "Pour le tester, il faut ensuite de vrai valeurs..."
   ]
  },
  {
   "cell_type": "markdown",
   "metadata": {},
   "source": [
    "## Test"
   ]
  },
  {
   "cell_type": "code",
   "execution_count": null,
   "metadata": {},
   "outputs": [],
   "source": [
    "#Création d'un dataset sans les scores\n",
    "\n",
    "df_target=pd.DataFrame(np.array([[1,2,\"Maths, Algèbre, Matrices, Reduction\"],\n",
    "                         [1,2,\"Maths, Algèbre, Matrices, Reduction\"],\n",
    "                         [1,3,\"Maths, Algèbre, Matrices, Reduction\"],\n",
    "                         [2,12,\"Physique, Mecanique, Newton\"],\n",
    "                         [2,4,\"Physique, Mecanique, Newton\"],\n",
    "                         [2,5,\"Chimie, pH\"],\n",
    "                         [2,50,\"Chimie, pH\"],\n",
    "                         [3,2,\"Maths, Algèbre, Matrices, Reduction\"],\n",
    "                         [3,4,\"Physique, Mecanique, Newton\"],\n",
    "                          [4,4,\"Physique, Mecanique, Newton\"],\n",
    "                          [3,5,\"Chimie, pH\"]                        \n",
    "                         ]),\n",
    "               columns=[\"id_eleve\",\"id_question\",\"categorie_quest\"])\n",
    "\n",
    "df_target"
   ]
  }
 ],
 "metadata": {
  "kernelspec": {
   "display_name": "Python 3",
   "language": "python",
   "name": "python3"
  },
  "language_info": {
   "codemirror_mode": {
    "name": "ipython",
    "version": 3
   },
   "file_extension": ".py",
   "mimetype": "text/x-python",
   "name": "python",
   "nbconvert_exporter": "python",
   "pygments_lexer": "ipython3",
   "version": "3.7.6"
  }
 },
 "nbformat": 4,
 "nbformat_minor": 4
}
